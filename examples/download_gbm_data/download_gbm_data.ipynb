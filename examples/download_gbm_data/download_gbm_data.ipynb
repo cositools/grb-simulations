{
 "cells": [
  {
   "cell_type": "markdown",
   "id": "4706f2be",
   "metadata": {},
   "source": [
    "## Download GBM Data"
   ]
  },
  {
   "cell_type": "code",
   "execution_count": 1,
   "id": "fba0d819",
   "metadata": {},
   "outputs": [
    {
     "name": "stderr",
     "output_type": "stream",
     "text": [
      "/Users/eneights/software/miniforge3/envs/gbm/lib/python3.10/site-packages/gbm/plot/lal_post_subs.py:184: UserWarning: Basemap not installed. Some functionality not available.\n",
      "  warnings.warn('Basemap not installed. Some functionality not available.')\n"
     ]
    }
   ],
   "source": [
    "import shutil\n",
    "from pathlib import Path\n",
    "from cosiburstpy import read_yaml, write_readme\n",
    "from cosiburstpy.gbm import DataDownload"
   ]
  },
  {
   "cell_type": "markdown",
   "id": "7dd55cda",
   "metadata": {},
   "source": [
    "Read in the configuration .yaml file, and create the output directory if it doesn't exist. The data to download is specified in the configuration file."
   ]
  },
  {
   "cell_type": "code",
   "execution_count": null,
   "id": "47cd1371",
   "metadata": {},
   "outputs": [],
   "source": [
    "config_file = 'download_gbm_data.yaml'\n",
    "inputs = read_yaml(config_file)\n",
    "\n",
    "output_path = Path(inputs['paths']['output'])\n",
    "filters = inputs['filters']\n",
    "columns = inputs['download']"
   ]
  },
  {
   "cell_type": "markdown",
   "id": "c19dee85",
   "metadata": {},
   "source": [
    "Create the GBM data download object."
   ]
  },
  {
   "cell_type": "code",
   "execution_count": 3,
   "id": "319a05af",
   "metadata": {},
   "outputs": [
    {
     "name": "stdout",
     "output_type": "stream",
     "text": [
      "Downloading Catalog from HEASARC via w3query.pl...\n",
      "Finished in 94 s\n"
     ]
    }
   ],
   "source": [
    "data_download = DataDownload(output_path / 'data', columns, filters)"
   ]
  },
  {
   "cell_type": "markdown",
   "id": "0297266c",
   "metadata": {},
   "source": [
    "Download data from the [GBM Burst Catalog](https://heasarc.gsfc.nasa.gov/W3Browse/fermi/fermigbrst.html) for bursts as selected in the configuration file."
   ]
  },
  {
   "cell_type": "code",
   "execution_count": 4,
   "id": "89e0021f",
   "metadata": {},
   "outputs": [],
   "source": [
    "data_download.download_burst_catalog()"
   ]
  },
  {
   "cell_type": "markdown",
   "id": "036053c9",
   "metadata": {},
   "source": [
    "Download the TTE data for the selected GRBs."
   ]
  },
  {
   "cell_type": "code",
   "execution_count": 5,
   "id": "bf3ae892",
   "metadata": {},
   "outputs": [
    {
     "name": "stdout",
     "output_type": "stream",
     "text": [
      "glg_tte_b0_bn210919653_v00.fit [==============================] 100.00%\n",
      "glg_tte_n0_bn210919653_v00.fit [==============================] 100.00%\n",
      "glg_tte_n3_bn210919653_v00.fit [==============================] 100.00%\n",
      "glg_tte_n4_bn210919653_v00.fit [==============================] 100.00%\n",
      "glg_tte_n5_bn210919653_v00.fit [==============================] 100.00%\n",
      "glg_tte_b0_bn100719311_v00.fit [==============================] 100.00%\n",
      "glg_tte_n0_bn100719311_v00.fit [==============================] 100.00%\n",
      "glg_tte_n1_bn100719311_v00.fit [==============================] 100.00%\n",
      "glg_tte_n2_bn100719311_v00.fit [==============================] 100.00%\n",
      "glg_tte_b0_bn240227195_v00.fit [==============================] 100.00%\n",
      "glg_tte_n0_bn240227195_v00.fit [==============================] 100.00%\n",
      "glg_tte_n1_bn240227195_v00.fit [==============================] 100.00%\n",
      "glg_tte_n3_bn240227195_v00.fit [==============================] 100.00%\n",
      "glg_tte_b1_bn190409901_v00.fit [==============================] 100.00%\n",
      "glg_tte_na_bn190409901_v00.fit [==============================] 100.00%\n",
      "glg_tte_nb_bn190409901_v00.fit [==============================] 100.00%\n",
      "glg_tte_b1_bn220910627_v00.fit [==============================] 100.00%\n",
      "glg_tte_na_bn220910627_v00.fit [==============================] 100.00%\n",
      "glg_tte_b1_bn130701761_v00.fit [==============================] 100.00%\n",
      "glg_tte_n9_bn130701761_v00.fit [==============================] 100.00%\n",
      "glg_tte_na_bn130701761_v00.fit [==============================] 100.00%\n",
      "glg_tte_nb_bn130701761_v00.fit [==============================] 100.00%\n",
      "glg_tte_b0_bn141020439_v00.fit [==============================] 100.00%\n",
      "glg_tte_n0_bn141020439_v00.fit [==============================] 100.00%\n",
      "glg_tte_n1_bn141020439_v00.fit [==============================] 100.00%\n",
      "glg_tte_n3_bn141020439_v00.fit [==============================] 100.00%\n",
      "glg_tte_b1_bn210711432_v00.fit [==============================] 100.00%\n",
      "glg_tte_n6_bn210711432_v00.fit [==============================] 100.00%\n",
      "glg_tte_n7_bn210711432_v00.fit [==============================] 100.00%\n",
      "glg_tte_n8_bn210711432_v00.fit [==============================] 100.00%\n",
      "glg_tte_b0_bn120302722_v00.fit [==============================] 100.00%\n",
      "glg_tte_n4_bn120302722_v00.fit [==============================] 100.00%\n",
      "glg_tte_n5_bn120302722_v00.fit [==============================] 100.00%\n",
      "glg_tte_b1_bn170816599_v01.fit [==============================] 100.00%\n",
      "glg_tte_n7_bn170816599_v01.fit [==============================] 100.00%\n",
      "glg_tte_n8_bn170816599_v01.fit [==============================] 100.00%\n",
      "glg_tte_nb_bn170816599_v01.fit [==============================] 100.00%\n",
      "glg_tte_b0_bn170121133_v00.fit [==============================] 100.00%\n",
      "glg_tte_n3_bn170121133_v00.fit [==============================] 100.00%\n",
      "glg_tte_n4_bn170121133_v00.fit [==============================] 100.00%\n",
      "glg_tte_n7_bn170121133_v00.fit [==============================] 100.00%\n",
      "glg_tte_b0_bn160609690_v00.fit [==============================] 100.00%\n",
      "glg_tte_b1_bn160609690_v00.fit [==============================] 100.00%\n",
      "glg_tte_n0_bn160609690_v00.fit [==============================] 100.00%\n",
      "glg_tte_n3_bn160609690_v00.fit [==============================] 100.00%\n",
      "glg_tte_n6_bn160609690_v00.fit [==============================] 100.00%\n",
      "glg_tte_n7_bn160609690_v00.fit [==============================] 100.00%\n",
      "glg_tte_b1_bn210515546_v00.fit [==============================] 100.00%\n",
      "glg_tte_n6_bn210515546_v00.fit [==============================] 100.00%\n",
      "glg_tte_n9_bn210515546_v00.fit [==============================] 100.00%\n",
      "glg_tte_na_bn210515546_v00.fit [==============================] 100.00%\n"
     ]
    }
   ],
   "source": [
    "data_download.download_tte_data()"
   ]
  },
  {
   "cell_type": "markdown",
   "id": "725e6aca",
   "metadata": {},
   "source": [
    "Copy this notebook and the configuration file to the output directory, and write a README file."
   ]
  },
  {
   "cell_type": "code",
   "execution_count": null,
   "id": "29fd6f2c",
   "metadata": {},
   "outputs": [],
   "source": [
    "(output_path / 'inputs').mkdir(parents=True, exist_ok=True)\n",
    "shutil.copy(Path.cwd() / 'download_gbm_data.ipynb', output_path / 'inputs')\n",
    "shutil.copy(config_file, output_path / 'inputs')\n",
    "\n",
    "write_readme(output_path / 'README.md', inputs_path=output_path / 'inputs', input_parameters=inputs)"
   ]
  }
 ],
 "metadata": {
  "kernelspec": {
   "display_name": "gbm",
   "language": "python",
   "name": "python3"
  },
  "language_info": {
   "codemirror_mode": {
    "name": "ipython",
    "version": 3
   },
   "file_extension": ".py",
   "mimetype": "text/x-python",
   "name": "python",
   "nbconvert_exporter": "python",
   "pygments_lexer": "ipython3",
   "version": "3.10.0"
  }
 },
 "nbformat": 4,
 "nbformat_minor": 5
}
