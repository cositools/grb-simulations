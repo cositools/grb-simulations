{
 "cells": [
  {
   "cell_type": "markdown",
   "id": "219e40e1",
   "metadata": {},
   "source": [
    "## Create Source Models from GBM Data"
   ]
  },
  {
   "cell_type": "markdown",
   "id": "ff2914f0",
   "metadata": {},
   "source": [
    "This notebook generates spectra and lightcurves from GBM data."
   ]
  },
  {
   "cell_type": "code",
   "execution_count": null,
   "id": "b8f6540e",
   "metadata": {},
   "outputs": [
    {
     "name": "stderr",
     "output_type": "stream",
     "text": [
      "/Users/eneights/software/miniforge3/envs/gbm/lib/python3.10/site-packages/gbm/plot/lal_post_subs.py:184: UserWarning: Basemap not installed. Some functionality not available.\n",
      "  warnings.warn('Basemap not installed. Some functionality not available.')\n"
     ]
    }
   ],
   "source": [
    "from pathlib import Path\n",
    "import astropy.units as u\n",
    "from cosiburstpy import read_yaml, BayesianBlocks, DefineSpectrum"
   ]
  },
  {
   "cell_type": "markdown",
   "id": "4b049ae1",
   "metadata": {},
   "source": [
    "Read in the configuration .yaml file."
   ]
  },
  {
   "cell_type": "code",
   "execution_count": null,
   "id": "2acb70f2",
   "metadata": {},
   "outputs": [],
   "source": [
    "config_file = 'generate_source_models.yaml'\n",
    "inputs = read_yaml(config_file)\n",
    "\n",
    "input_path = Path(inputs['paths']['input'])\n",
    "output_path = Path(inputs['paths']['output'])\n",
    "\n",
    "source_time_range = inputs['time']['source_range'] * u.s\n",
    "background_time_range = inputs['time']['background_range'] * u.s\n",
    "nai_energy_range = inputs['energy']['nai_range'] * u.keV\n",
    "bgo_energy_range = inputs['energy']['bgo_range'] * u.keV"
   ]
  },
  {
   "cell_type": "markdown",
   "id": "c00c8aed",
   "metadata": {},
   "source": [
    "For each burst, create a spectral model using GBM's best fit spectrum, and create a lightcurve by binning the GBM TTE data using Bayesian blocks."
   ]
  },
  {
   "cell_type": "code",
   "execution_count": null,
   "id": "2f3377cf",
   "metadata": {},
   "outputs": [
    {
     "name": "stderr",
     "output_type": "stream",
     "text": [
      "No spectral fit available for bn141020439.\n",
      "No spectral fit available for bn160609690.\n",
      "No spectral fit available for bn190409901.\n"
     ]
    },
    {
     "data": {
      "text/plain": [
       "<Figure size 770x470 with 0 Axes>"
      ]
     },
     "metadata": {},
     "output_type": "display_data"
    },
    {
     "data": {
      "text/plain": [
       "<Figure size 770x470 with 0 Axes>"
      ]
     },
     "metadata": {},
     "output_type": "display_data"
    },
    {
     "data": {
      "text/plain": [
       "<Figure size 770x470 with 0 Axes>"
      ]
     },
     "metadata": {},
     "output_type": "display_data"
    },
    {
     "data": {
      "text/plain": [
       "<Figure size 770x470 with 0 Axes>"
      ]
     },
     "metadata": {},
     "output_type": "display_data"
    },
    {
     "data": {
      "text/plain": [
       "<Figure size 770x470 with 0 Axes>"
      ]
     },
     "metadata": {},
     "output_type": "display_data"
    },
    {
     "data": {
      "text/plain": [
       "<Figure size 770x470 with 0 Axes>"
      ]
     },
     "metadata": {},
     "output_type": "display_data"
    },
    {
     "data": {
      "text/plain": [
       "<Figure size 770x470 with 0 Axes>"
      ]
     },
     "metadata": {},
     "output_type": "display_data"
    },
    {
     "data": {
      "text/plain": [
       "<Figure size 770x470 with 0 Axes>"
      ]
     },
     "metadata": {},
     "output_type": "display_data"
    },
    {
     "data": {
      "text/plain": [
       "<Figure size 770x470 with 0 Axes>"
      ]
     },
     "metadata": {},
     "output_type": "display_data"
    },
    {
     "data": {
      "text/plain": [
       "<Figure size 770x470 with 0 Axes>"
      ]
     },
     "metadata": {},
     "output_type": "display_data"
    },
    {
     "data": {
      "text/plain": [
       "<Figure size 770x470 with 0 Axes>"
      ]
     },
     "metadata": {},
     "output_type": "display_data"
    },
    {
     "data": {
      "text/plain": [
       "<Figure size 770x470 with 0 Axes>"
      ]
     },
     "metadata": {},
     "output_type": "display_data"
    },
    {
     "data": {
      "text/plain": [
       "<Figure size 770x470 with 0 Axes>"
      ]
     },
     "metadata": {},
     "output_type": "display_data"
    }
   ],
   "source": [
    "event_directories = [item for item in input_path.iterdir() if item.is_dir()]\n",
    "\n",
    "for i, event_path in enumerate(event_directories):\n",
    "\t\n",
    "    name = event_path.name\n",
    "    gbm_file = input_path / name / f'{name}.yaml'\n",
    "\t\n",
    "    spectrum = DefineSpectrum(name, gbm_file)\n",
    "\n",
    "    if spectrum.spectrum:\n",
    "        spectrum.save_spectrum(output_path / 'spectra' / f'{name}.yaml')\n",
    "        \n",
    "    lightcurve = BayesianBlocks(name, input_path / name, source_time_range, background_time_range, nai_energy_range, bgo_energy_range)\n",
    "    lightcurve.bin_lightcurve(output_path / 'lightcurves' / f'{name}.dat', plot_path=output_path / 'plots')"
   ]
  }
 ],
 "metadata": {
  "kernelspec": {
   "display_name": "gbm",
   "language": "python",
   "name": "python3"
  },
  "language_info": {
   "codemirror_mode": {
    "name": "ipython",
    "version": 3
   },
   "file_extension": ".py",
   "mimetype": "text/x-python",
   "name": "python",
   "nbconvert_exporter": "python",
   "pygments_lexer": "ipython3",
   "version": "3.10.0"
  }
 },
 "nbformat": 4,
 "nbformat_minor": 5
}
