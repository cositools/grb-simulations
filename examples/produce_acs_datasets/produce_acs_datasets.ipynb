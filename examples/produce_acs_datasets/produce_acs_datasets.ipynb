{
 "cells": [
  {
   "cell_type": "markdown",
   "id": "e693532f",
   "metadata": {},
   "source": [
    "## Create ACS Datasets for Onboard Trigger Algorithm Testing"
   ]
  },
  {
   "cell_type": "code",
   "execution_count": null,
   "id": "1d78a9ad",
   "metadata": {},
   "outputs": [],
   "source": []
  }
 ],
 "metadata": {
  "language_info": {
   "name": "python"
  }
 },
 "nbformat": 4,
 "nbformat_minor": 5
}
