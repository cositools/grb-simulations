{
 "cells": [
  {
   "cell_type": "markdown",
   "id": "dede4ec4",
   "metadata": {},
   "source": [
    "## Run MEGAlib Simulations"
   ]
  },
  {
   "cell_type": "markdown",
   "id": "7ad1e036",
   "metadata": {},
   "source": [
    "This notebook runs simulations of COSI's observations of transients. [MEGAlib](https://megalibtoolkit.com/documentation.html) must be installed in order to run this notebook."
   ]
  },
  {
   "cell_type": "code",
   "execution_count": null,
   "id": "6d44e0bf",
   "metadata": {},
   "outputs": [],
   "source": [
    "from pathlib import Path\n",
    "from cosiburstpy import read_yaml, simulate"
   ]
  },
  {
   "cell_type": "markdown",
   "id": "45f27d5b",
   "metadata": {},
   "source": [
    "Read in the configuration .yaml file."
   ]
  },
  {
   "cell_type": "code",
   "execution_count": 2,
   "id": "278c570c",
   "metadata": {},
   "outputs": [],
   "source": [
    "config_file = 'run_simulations.yaml'\n",
    "inputs = read_yaml(config_file)\n",
    "\n",
    "input_path = Path(inputs['paths']['input'])\n",
    "output_path = Path(inputs['paths']['output'])"
   ]
  },
  {
   "cell_type": "markdown",
   "id": "e4e9d1e7",
   "metadata": {},
   "source": [
    "Simulate the bursts using cosima."
   ]
  },
  {
   "cell_type": "code",
   "execution_count": null,
   "id": "a956bdf1",
   "metadata": {},
   "outputs": [],
   "source": [
    "simulate(input_path / 'source_files', output_path / 'sim_files', overwrite=True)"
   ]
  }
 ],
 "metadata": {
  "kernelspec": {
   "display_name": "gbm",
   "language": "python",
   "name": "python3"
  },
  "language_info": {
   "codemirror_mode": {
    "name": "ipython",
    "version": 3
   },
   "file_extension": ".py",
   "mimetype": "text/x-python",
   "name": "python",
   "nbconvert_exporter": "python",
   "pygments_lexer": "ipython3",
   "version": "3.10.0"
  }
 },
 "nbformat": 4,
 "nbformat_minor": 5
}
