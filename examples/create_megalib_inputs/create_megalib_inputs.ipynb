{
 "cells": [
  {
   "cell_type": "markdown",
   "id": "27d07c52",
   "metadata": {},
   "source": [
    "## Create MEGAlib Input Files"
   ]
  },
  {
   "cell_type": "code",
   "execution_count": null,
   "id": "54e5e9e8",
   "metadata": {},
   "outputs": [],
   "source": []
  }
 ],
 "metadata": {
  "language_info": {
   "name": "python"
  }
 },
 "nbformat": 4,
 "nbformat_minor": 5
}
