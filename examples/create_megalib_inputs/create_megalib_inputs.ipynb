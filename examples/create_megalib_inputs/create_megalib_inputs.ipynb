{
 "cells": [
  {
   "cell_type": "markdown",
   "id": "27d07c52",
   "metadata": {},
   "source": [
    "## Create MEGAlib Input Files"
   ]
  },
  {
   "cell_type": "code",
   "execution_count": null,
   "id": "54e5e9e8",
   "metadata": {},
   "outputs": [],
   "source": [
    "from pathlib import Path\n",
    "import shutil\n",
    "import os\n",
    "from astropy.coordinates import SkyCoord\n",
    "import astropy.units as u\n",
    "from scoords import Attitude, SpacecraftFrame\n",
    "import numpy as np\n",
    "import random\n",
    "\n",
    "from cosiburstpy import read_yaml, write_readme, SpacecraftOrientation, Lightcurve, SourceFile, Event, Spectrum, EventTable, read_csv"
   ]
  },
  {
   "cell_type": "markdown",
   "id": "36a025cc",
   "metadata": {},
   "source": [
    "Read in the configuration .yaml file. The data to download is specified in the configuration file."
   ]
  },
  {
   "cell_type": "code",
   "execution_count": 2,
   "id": "5589b994",
   "metadata": {},
   "outputs": [],
   "source": [
    "config_file = 'create_megalib_inputs.yaml'\n",
    "inputs = read_yaml(config_file)\n",
    "\n",
    "input_path = Path(inputs['paths']['input'])\n",
    "output_path = Path(inputs['paths']['output'])\n",
    "mass_model_path = Path(inputs['paths']['mass_model'])\n",
    "orientation_path = Path(inputs['paths']['orientation'])\n",
    "exclusion_times_paths = [Path(inputs['paths']['exclusion_times'][0]), inputs['paths']['exclusion_times'][1]]\n",
    "gbm_data_path = Path(inputs['paths']['gbm_data'])\n",
    "\n",
    "spectral_models = inputs['events']['spectral_models']\n",
    "time_between_events = [float(inputs['events']['time_separation'][0]) * u.s, float(inputs['events']['time_separation'][1]) * u.s]\n",
    "energy_range = [float(inputs['events']['energy'][0]) * u.keV, float(inputs['events']['energy'][1]) * u.keV]\n",
    "flux_range = [float(inputs['events']['peak_flux'][0]) * u.erg / u.cm**2 / u.s, float(inputs['events']['peak_flux'][1]) * u.erg / u.cm**2 / u.s]\n",
    "zenith_range = [float(inputs['events']['zenith'][0]) * u.deg, float(inputs['events']['zenith'][1]) * u.deg]\n",
    "azimuth_range = [float(inputs['events']['azimuth'][0]) * u.deg, float(inputs['events']['azimuth'][1]) * u.deg]\n",
    "min_peak_flux = float(inputs['events']['min_peak_flux']) / u.cm**2 / u.s\n",
    "\n",
    "save_acs_hits = inputs['source_files']['save_acs_hits']\n",
    "earth_occultation = inputs['source_files']['earth_occultation']"
   ]
  },
  {
   "cell_type": "markdown",
   "id": "5bc6eee6",
   "metadata": {},
   "source": [
    "Read the orientation file, and exclude times when the spacecraft is rocking or in the SAA."
   ]
  },
  {
   "cell_type": "code",
   "execution_count": 3,
   "id": "a5bec798",
   "metadata": {},
   "outputs": [],
   "source": [
    "orientation = SpacecraftOrientation.from_file(orientation_path)\n",
    "\n",
    "exclusion_times = []\n",
    "\n",
    "for file in exclusion_times_paths:\n",
    "\n",
    "\tdata = read_csv(file, delimiter=',')\n",
    "\tdata = {key: [float(item) for item in entry] for key, entry in data.items()}\n",
    "\n",
    "\ttime_ranges = list(zip(data['start'] * u.s, data['stop'] * u.s))\n",
    "\texclusion_times.extend(time_ranges)\n",
    "\n",
    "for time_range in exclusion_times:\n",
    "\torientation.exclude_times(time_range)"
   ]
  },
  {
   "cell_type": "markdown",
   "id": "193c7882",
   "metadata": {},
   "source": [
    "Create a dictionary of the lightcurve and spectrum for each GRB brighter than the minimum peak flux."
   ]
  },
  {
   "cell_type": "code",
   "execution_count": 4,
   "id": "961cebd8",
   "metadata": {},
   "outputs": [],
   "source": [
    "events = {}\n",
    "\n",
    "for spectrum_file in (input_path / 'spectra').iterdir():\n",
    "\n",
    "\tif spectrum_file.suffix == '.yaml':\n",
    "\n",
    "\t\tspectrum = Spectrum.from_file(input_path / 'spectra' / spectrum_file)\n",
    "\n",
    "\t\tif spectrum.model in spectral_models:\n",
    "\n",
    "\t\t\tname = spectrum_file.name[:11]\n",
    "\n",
    "\t\t\tgbm_data = read_yaml(gbm_data_path / name / f'{name}.yaml')\n",
    "\t\t\tpeak_flux_model = gbm_data['pflx_best_fitting_model']\n",
    "\n",
    "\t\t\tif not peak_flux_model == 'nan':\n",
    "\t\t\t\tpeak_flux = gbm_data[peak_flux_model + '_phtfluxb'] / u.cm**2 / u.s\n",
    "\n",
    "\t\t\t\tif peak_flux > min_peak_flux: \n",
    "\n",
    "\t\t\t\t\tlightcurve_file = None\n",
    "\n",
    "\t\t\t\t\tfor item in (input_path / 'lightcurves').iterdir():\n",
    "\n",
    "\t\t\t\t\t\tif name in str(item) and item.suffix == '.dat':\n",
    "\t\t\t\t\t\t\tlightcurve_file = item\n",
    "\n",
    "\t\t\t\t\tif lightcurve_file:\n",
    "\n",
    "\t\t\t\t\t\tlightcurve = Lightcurve.from_file(lightcurve_file)\n",
    "\t\t\t\t\t\tevents[name] = (spectrum, lightcurve, lightcurve_file)\n",
    "\n",
    "events = list(events.items())\n",
    "random.shuffle(events)\n",
    "events = dict(events)"
   ]
  },
  {
   "cell_type": "markdown",
   "id": "e2b05781",
   "metadata": {},
   "source": [
    "Create a .source file for each GRB, and store the parameters in the event table dictionary."
   ]
  },
  {
   "cell_type": "code",
   "execution_count": 5,
   "id": "d24a71f8",
   "metadata": {},
   "outputs": [],
   "source": [
    "event_table_dict = {'Event': [], 'Start time (s)': [], 'Peak start time (s)': [], 'Lightcurve duration (s)': [], 'GBM T90 (s)': [], \n",
    "\t\t\t\t\t'Peak photon flux (ph/cm^2/s) for 10-10000 keV': [], 'Peak energy flux (erg/cm^2/s) for 10-10000 keV': [], \n",
    "\t\t\t\t\t'Peak photon flux (ph/cm^2/s) for 80-2000 keV': [], 'Zenith (deg)': [], 'Azimuth (deg)': [], 'Spectral model': [], 'Spectral parameters': []}\n",
    "\n",
    "time = orientation.times.min()\n",
    "\n",
    "for name in events:\n",
    "\n",
    "\tsource_file_path = output_path / 'source_files' / f'{name}.source'\n",
    "\n",
    "\tspectrum = events[name][0]\n",
    "\tlightcurve = events[name][1]\n",
    "\t\n",
    "\tduration = lightcurve.bin_edges[-1] - lightcurve.bin_edges[0]\n",
    "\n",
    "\texclude = True\n",
    "\twhile exclude == True:\n",
    "\n",
    "\t\ttime_add = np.random.uniform(time_between_events[0].to(u.s).value, time_between_events[1].to(u.s).value) * u.s\n",
    "\n",
    "\t\texclude_start = orientation.get_orientation_at_time(time + time_add)[4]\n",
    "\t\texclude_end = orientation.get_orientation_at_time(time + time_add + duration)[4]\n",
    "\n",
    "\t\tif not any((exclude_start, exclude_end)):\n",
    "\t\t\texclude = False\n",
    "\n",
    "\tevent_time = time + time_add\n",
    "\ttime = event_time + duration\n",
    "\n",
    "\tlightcurve.edit_times(output_path / 'source_files' / f'{name}.dat', event_time)\n",
    "\n",
    "\tevent_orientation = SpacecraftOrientation.slice(orientation, (lightcurve.bin_edges[0], lightcurve.bin_edges[-1]))\n",
    "\tattitude = Attitude.from_axes(x=event_orientation.pointings[0][0], z=event_orientation.pointings[0][1], frame='galactic')\n",
    "\n",
    "\tpeak_flux = np.exp(np.random.uniform(np.log(flux_range[0].value), np.log(flux_range[1].value))) * flux_range[0].unit\n",
    "\n",
    "\tevent = Event(name, lightcurve, spectrum, event_orientation)\n",
    "\tevent.set_peak_flux(peak_flux, energy_range)\n",
    "\n",
    "\tocculted = True\n",
    "\twhile occulted == True:\n",
    "\n",
    "\t\tzenith = np.random.uniform(zenith_range[0].to(u.deg).value, zenith_range[1].to(u.deg).value) * u.deg\n",
    "\t\tazimuth = np.random.uniform(azimuth_range[0].to(u.deg).value, azimuth_range[1].to(u.deg).value) * u.deg\n",
    "\n",
    "\t\tposition = SkyCoord(azimuth, 90.*u.deg - zenith, representation_type='spherical', frame=SpacecraftFrame(attitude=attitude))\n",
    "\t\tevent.position = position\n",
    "\n",
    "\t\tocculted = event.occulted\n",
    "\n",
    "\tsource_file = SourceFile(event, mass_model_path, events[name][2].name, orientation_path.name)\n",
    "\tsource_file.write_file(source_file_path, save_acs_hits, earth_occultation=earth_occultation)\n",
    "\n",
    "\tgbm_data = read_yaml(gbm_data_path / name / f'{name}.yaml')\n",
    "\n",
    "\tevent_table_dict['Event'].append(name)\n",
    "\tevent_table_dict['Start time (s)'].append(f'{event_time.to(u.s).value:.2f}')\n",
    "\tevent_table_dict['Peak start time (s)'].append(f'{lightcurve.peak[0].to(u.s).value:.2f}')\n",
    "\tevent_table_dict['Lightcurve duration (s)'].append(f'{duration.to(u.s).value:.2f}')\n",
    "\tevent_table_dict['GBM T90 (s)'].append(gbm_data['t90'])\n",
    "\tevent_table_dict['Peak photon flux (ph/cm^2/s) for 10-10000 keV'].append(f'{event.peak_photon_flux((10.*u.keV, 10000.*u.keV)).to(u.cm**-2*u.s**-1).value:.3f}')\n",
    "\tevent_table_dict['Peak energy flux (erg/cm^2/s) for 10-10000 keV'].append(f'{event.peak_energy_flux((10.*u.keV, 10000.*u.keV)).to(u.erg/u.cm**2/u.s).value:.3e}')\n",
    "\tevent_table_dict['Peak photon flux (ph/cm^2/s) for 80-2000 keV'].append(f'{event.peak_photon_flux((80.*u.keV, 2000.*u.keV)).to(u.cm**-2*u.s**-1).value:.3f}')\n",
    "\tevent_table_dict['Zenith (deg)'].append(f'{90. - event.position.lat.to(u.deg).value:.2f}')\n",
    "\tevent_table_dict['Azimuth (deg)'].append(f'{event.position.lon.to(u.deg).value:.2f}')\n",
    "\tevent_table_dict['Spectral model'].append(event.spectrum.model)\n",
    "\tevent_table_dict['Spectral parameters'].append(event.spectrum.parameter_list)"
   ]
  },
  {
   "cell_type": "markdown",
   "id": "d13769d3",
   "metadata": {},
   "source": [
    "Sort the event table by time, and write it to file."
   ]
  },
  {
   "cell_type": "code",
   "execution_count": 6,
   "id": "51b0044d",
   "metadata": {},
   "outputs": [],
   "source": [
    "sort_index = list(event_table_dict.keys()).index('Start time (s)')\n",
    "sorted_event_table = sorted(list(zip(*event_table_dict.values())), key=lambda row: row[sort_index])\n",
    "\n",
    "event_table_dict = {key: [row[i] for row in sorted_event_table] for i, key in enumerate(event_table_dict.keys())}\n",
    "\n",
    "event_table = EventTable(event_table_dict)\n",
    "event_table.write_file(output_path / 'events.csv')"
   ]
  },
  {
   "cell_type": "markdown",
   "id": "a5f02b6a",
   "metadata": {},
   "source": [
    "Copy this notebook and configuration file to the output directory, and write a README file. Copy the orientation file to the .source file directory."
   ]
  },
  {
   "cell_type": "code",
   "execution_count": 7,
   "id": "661a9068",
   "metadata": {},
   "outputs": [
    {
     "data": {
      "text/plain": [
       "'/Users/eneights/work/COSI/grb-simulations/data/examples/megalib_inputs/source_files/dc3_1day.ori'"
      ]
     },
     "execution_count": 7,
     "metadata": {},
     "output_type": "execute_result"
    }
   ],
   "source": [
    "(output_path / 'inputs').mkdir(parents=True, exist_ok=True)\n",
    "shutil.copy(Path.cwd() / 'create_megalib_inputs.ipynb', output_path / 'inputs')\n",
    "shutil.copy(config_file, output_path / 'inputs')\n",
    "\n",
    "write_readme(output_path / 'README.md', inputs_path=output_path / 'inputs', input_parameters=inputs)\n",
    "\n",
    "shutil.copy(orientation_path, output_path / 'source_files')"
   ]
  }
 ],
 "metadata": {
  "kernelspec": {
   "display_name": "gbm",
   "language": "python",
   "name": "python3"
  },
  "language_info": {
   "codemirror_mode": {
    "name": "ipython",
    "version": 3
   },
   "file_extension": ".py",
   "mimetype": "text/x-python",
   "name": "python",
   "nbconvert_exporter": "python",
   "pygments_lexer": "ipython3",
   "version": "3.10.0"
  }
 },
 "nbformat": 4,
 "nbformat_minor": 5
}
