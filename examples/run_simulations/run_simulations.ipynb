{
 "cells": [
  {
   "cell_type": "markdown",
   "id": "dede4ec4",
   "metadata": {},
   "source": [
    "## Run MEGAlib Simulations"
   ]
  },
  {
   "cell_type": "code",
   "execution_count": null,
   "id": "6d44e0bf",
   "metadata": {},
   "outputs": [],
   "source": [
    "from pathlib import Path\n",
    "import shutil\n",
    "from cosiburstpy import read_yaml, write_readme, simulate"
   ]
  },
  {
   "cell_type": "markdown",
   "id": "45f27d5b",
   "metadata": {},
   "source": [
    "Read in the configuration .yaml file."
   ]
  },
  {
   "cell_type": "code",
   "execution_count": 2,
   "id": "278c570c",
   "metadata": {},
   "outputs": [],
   "source": [
    "config_file = 'run_simulations.yaml'\n",
    "inputs = read_yaml(config_file)\n",
    "\n",
    "input_path = Path(inputs['paths']['input'])\n",
    "output_path = Path(inputs['paths']['output'])"
   ]
  },
  {
   "cell_type": "markdown",
   "id": "e4e9d1e7",
   "metadata": {},
   "source": [
    "Simulate the GRBs using cosima."
   ]
  },
  {
   "cell_type": "code",
   "execution_count": 3,
   "id": "a956bdf1",
   "metadata": {},
   "outputs": [
    {
     "name": "stderr",
     "output_type": "stream",
     "text": [
      "sh: cosima: command not found\n",
      "sh: cosima: command not found\n",
      "sh: cosima: command not found\n"
     ]
    }
   ],
   "source": [
    "simulate(input_path / 'source_files', output_path / 'sim_files', overwrite=True)"
   ]
  },
  {
   "cell_type": "markdown",
   "id": "45a5ad84",
   "metadata": {},
   "source": [
    "Copy this notebook and configuration file to the output directory, and write a README file."
   ]
  },
  {
   "cell_type": "code",
   "execution_count": 4,
   "id": "a97217e8",
   "metadata": {},
   "outputs": [
    {
     "data": {
      "text/plain": [
       "'/Users/eneights/work/COSI/grb-simulations/data/examples/simulations/events.csv'"
      ]
     },
     "execution_count": 4,
     "metadata": {},
     "output_type": "execute_result"
    }
   ],
   "source": [
    "(output_path / 'inputs').mkdir(parents=True, exist_ok=True)\n",
    "shutil.copy(Path.cwd() / 'run_simulations.ipynb', output_path / 'inputs')\n",
    "shutil.copy(config_file, output_path / 'inputs')\n",
    "\n",
    "write_readme(output_path / 'README.md', inputs_path=output_path / 'inputs', input_parameters=inputs)\n",
    "shutil.copy(input_path / 'events.csv', output_path)"
   ]
  }
 ],
 "metadata": {
  "kernelspec": {
   "display_name": "gbm",
   "language": "python",
   "name": "python3"
  },
  "language_info": {
   "codemirror_mode": {
    "name": "ipython",
    "version": 3
   },
   "file_extension": ".py",
   "mimetype": "text/x-python",
   "name": "python",
   "nbconvert_exporter": "python",
   "pygments_lexer": "ipython3",
   "version": "3.10.0"
  }
 },
 "nbformat": 4,
 "nbformat_minor": 5
}
